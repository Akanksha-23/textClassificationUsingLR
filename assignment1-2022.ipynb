{
 "cells": [
  {
   "cell_type": "markdown",
   "metadata": {},
   "source": [
    "# [COM6513] Assignment 1: Sentiment Analysis with Logistic Regression\n",
    "\n",
    "### Instructor: Nikos Aletras\n",
    "\n",
    "\n",
    "The goal of this assignment is to develop and test a **text classification** system for **sentiment analysis**, in particular to predict the sentiment of movie reviews, i.e. positive or negative (binary classification).\n",
    "\n",
    "\n",
    "\n",
    "For that purpose, you will implement:\n",
    "\n",
    "\n",
    "- Text processing methods for extracting Bag-Of-Word features, using \n",
    "    - n-grams (BOW), i.e. unigrams, bigrams and trigrams to obtain vector representations of documents where n=1,2,3 respectively. Two vector weighting schemes should be tested: (1) raw frequencies (**1 mark**); (2) tf.idf (**1 mark**). \n",
    "    - character n-grams (BOCN). A character n-gram is a contiguous sequence of characters given a word, e.g. for n=2, 'coffee' is split into {'co', 'of', 'ff', 'fe', 'ee'}. Two vector weighting schemes should be tested: (1) raw frequencies (**1 mark**); (2) tf.idf (**1 mark**). **Tip: Note the large vocabulary size!** \n",
    "    - a combination of the two vector spaces (n-grams and character n-grams) choosing your best performing wighting respectively (i.e. raw or tfidf). (**1 mark**) **Tip: you should merge the two representations**\n",
    "\n",
    "\n",
    "\n",
    "- Binary Logistic Regression (LR) classifiers that will be able to accurately classify movie reviews trained with: \n",
    "    - (1) BOW-count (raw frequencies) \n",
    "    - (2) BOW-tfidf (tf.idf weighted)\n",
    "    - (3) BOCN-count\n",
    "    - (4) BOCN-tfidf\n",
    "    - (5) BOW+BOCN (best performing weighting; raw or tfidf)\n",
    "\n",
    "\n",
    "\n",
    "- The Stochastic Gradient Descent (SGD) algorithm to estimate the parameters of your Logistic Regression models. Your SGD algorithm should:\n",
    "    - Minimise the Binary Cross-entropy loss function (**1 mark**)\n",
    "    - Use L2 regularisation (**1 mark**)\n",
    "    - Perform multiple passes (epochs) over the training data (**1 mark**)\n",
    "    - Randomise the order of training data after each pass (**1 mark**)\n",
    "    - Stop training if the difference between the current and previous development loss is smaller than a threshold (**1 mark**)\n",
    "    - After each epoch print the training and development loss (**1 mark**)\n",
    "\n",
    "\n",
    "\n",
    "- Discuss how did you choose hyperparameters (e.g. learning rate and regularisation strength) for each LR model? You should use a table showing model performance using different set of hyperparameter values. (**2 marks). **Tip: Instead of using all possible combinations, you could perform a random sampling of combinations.**\n",
    "\n",
    "\n",
    "- After training each LR model, plot the learning process (i.e. training and validation loss in each epoch) using a line plot. Does your model underfit, overfit or is it about right? Explain why. (**1 mark**). \n",
    "\n",
    "\n",
    "- Identify and show the most important features (model interpretability) for each class (i.e. top-10 most positive and top-10 negative weights). Give the top 10 for each class and comment on whether they make sense (if they don't you might have a bug!). If you were to apply the classifier into a different domain such laptop reviews or restaurant reviews, do you think these features would generalise well? Can you propose what features the classifier could pick up as important in the new domain? (**2 marks**)\n",
    "\n",
    "\n",
    "- Provide well documented and commented code describing all of your choices. In general, you are free to make decisions about text processing (e.g. punctuation, numbers, vocabulary size) and hyperparameter values. We expect to see justifications and discussion for all of your choices (**2 marks**). \n",
    "\n",
    "\n",
    "- Provide efficient solutions by using Numpy arrays when possible (you can find tips in Lab 1 sheet). Executing the whole notebook with your code should not take more than 5 minutes on a any standard computer (e.g. Intel Core i5 CPU, 8 or 16GB RAM) excluding hyperparameter tuning runs (**2 marks**). \n",
    "\n",
    "\n",
    "\n",
    "\n",
    "\n",
    "\n",
    "### Data \n",
    "\n",
    "The data you will use are taken from here: [http://www.cs.cornell.edu/people/pabo/movie-review-data/](http://www.cs.cornell.edu/people/pabo/movie-review-data/) and you can find it in the `./data_sentiment` folder in CSV format:\n",
    "\n",
    "- `data_sentiment/train.csv`: contains 1,400 reviews, 700 positive (label: 1) and 700 negative (label: 0) to be used for training.\n",
    "- `data_sentiment/dev.csv`: contains 200 reviews, 100 positive and 100 negative to be used for hyperparameter selection and monitoring the training process.\n",
    "- `data_sentiment/test.csv`: contains 400 reviews, 200 positive and 200 negative to be used for testing.\n",
    "\n",
    "\n",
    "\n",
    "\n",
    "### Submission Instructions\n",
    "\n",
    "You should submit a Jupyter Notebook file (assignment1.ipynb) and an exported PDF version (you can do it from Jupyter: `File->Download as->PDF via Latex` or you can print it as PDF using your browser).\n",
    "\n",
    "You are advised to follow the code structure given in this notebook by completing all given funtions. You can also write any auxilliary/helper functions (and arguments for the functions) that you might need but note that you can provide a full solution without any such functions. Similarly, you can just use only the packages imported below but you are free to use any functionality from the [Python Standard Library](https://docs.python.org/2/library/index.html), NumPy, SciPy (excluding built-in softmax funtcions) and Pandas. You are not allowed to use any third-party library such as Scikit-learn (apart from metric functions already provided), NLTK, Spacy, Keras etc.. \n",
    "\n",
    "There is no single correct answer on what your accuracy should be, but correct implementations usually achieve F1-scores around 80\\% or higher. The quality of the analysis of the results is as important as the accuracy itself. \n",
    "\n",
    "This assignment will be marked out of 20. It is worth 20\\% of your final grade in the module.\n",
    "\n",
    "The deadline for this assignment is **23:59 on Mon, 14 Mar 2022** and it needs to be submitted via Blackboard. Standard departmental penalties for lateness will be applied. We use a range of strategies to **detect [unfair means](https://www.sheffield.ac.uk/ssid/unfair-means/index)**, including Turnitin which helps detect plagiarism. Use of unfair means would result in getting a failing grade.\n",
    "\n"
   ]
  },
  {
   "cell_type": "code",
   "execution_count": 1,
   "metadata": {
    "ExecuteTime": {
     "end_time": "2020-03-27T13:41:17.642162Z",
     "start_time": "2020-03-27T13:41:16.891940Z"
    }
   },
   "outputs": [],
   "source": [
    "import pandas as pd\n",
    "import numpy as np\n",
    "from collections import Counter\n",
    "import re\n",
    "import matplotlib.pyplot as plt\n",
    "from sklearn.metrics import accuracy_score, precision_score, recall_score, f1_score\n",
    "import random\n",
    "\n",
    "# fixing random seed for reproducibility\n",
    "random.seed(123)\n",
    "np.random.seed(123)\n"
   ]
  },
  {
   "cell_type": "markdown",
   "metadata": {},
   "source": [
    "## Load Raw texts and labels into arrays\n",
    "\n",
    "First, you need to load the training, development and test sets from their corresponding CSV files (tip: you can use Pandas dataframes)."
   ]
  },
  {
   "cell_type": "code",
   "execution_count": 19,
   "metadata": {},
   "outputs": [
    {
     "data": {
      "image/png": "[encoded data removed]",
      "text/plain": [
       "<Figure size 2880x1080 with 6 Axes>"
      ]
     },
     "metadata": {
      "needs_background": "light"
     },
     "output_type": "display_data"
    }
   ],
   "source": [
    "def plot_learning_process(ax, tl, vl):\n",
    "    ax.plot(range(len(tl)), tl, label = 'training_losses')\n",
    "    ax.plot(range(len(vl)), vl, label = 'validation_losses')\n",
    "    ax.legend()\n",
    "    ax.set_title(\"Training and validation loss V/S epoch\")\n",
    "    ax.set_xlabel('Epoch')\n",
    "    ax.set_ylabel('Loss')\n",
    "    \n",
    "tl = [[1,2,3], [4,5,6]]\n",
    "vl = [[3,2,1], [6,5,4]]\n",
    "fig, axes = plt.subplots(nrows=2, ncols=3, figsize = (40,15))\n",
    "\n",
    "# for ax,i,j in zip(axes.flatten(),tl, vl):\n",
    "# plot_learning_process(ax[1,2], i, j )\n",
    "    \n",
    "# plt.subplots_adjust(bottom=0.006, right=0.8, top=0.09)"
   ]
  },
  {
   "cell_type": "code",
   "execution_count": 6,
   "metadata": {
    "ExecuteTime": {
     "end_time": "2020-02-15T14:17:28.145788Z",
     "start_time": "2020-02-15T14:17:28.066100Z"
    }
   },
   "outputs": [],
   "source": [
    "train_data = pd.read_csv(\"data_sentiment/train.csv\", header=None)\n",
    "val_data = pd.read_csv(\"data_sentiment/dev.csv\", header=None)\n",
    "test_data = pd.read_csv(\"data_sentiment/test.csv\", header=None)"
   ]
  },
  {
   "cell_type": "markdown",
   "metadata": {},
   "source": [
    "If you use Pandas you can see a sample of the data."
   ]
  },
  {
   "cell_type": "code",
   "execution_count": 7,
   "metadata": {
    "ExecuteTime": {
     "end_time": "2020-02-15T14:17:28.900892Z",
     "start_time": "2020-02-15T14:17:28.891221Z"
    }
   },
   "outputs": [
    {
     "data": {
      "text/html": [
       "<div>\n",
       "<style scoped>\n",
       "    .dataframe tbody tr th:only-of-type {\n",
       "        vertical-align: middle;\n",
       "    }\n",
       "\n",
       "    .dataframe tbody tr th {\n",
       "        vertical-align: top;\n",
       "    }\n",
       "\n",
       "    .dataframe thead th {\n",
       "        text-align: right;\n",
       "    }\n",
       "</style>\n",
       "<table border=\"1\" class=\"dataframe\">\n",
       "  <thead>\n",
       "    <tr style=\"text-align: right;\">\n",
       "      <th></th>\n",
       "      <th>0</th>\n",
       "      <th>1</th>\n",
       "    </tr>\n",
       "  </thead>\n",
       "  <tbody>\n",
       "    <tr>\n",
       "      <th>952</th>\n",
       "      <td>you know that a movie has issues when most eve...</td>\n",
       "      <td>0</td>\n",
       "    </tr>\n",
       "    <tr>\n",
       "      <th>908</th>\n",
       "      <td>while watching loser , it occurred to me that ...</td>\n",
       "      <td>0</td>\n",
       "    </tr>\n",
       "    <tr>\n",
       "      <th>221</th>\n",
       "      <td>richard gere can be a commanding actor , but h...</td>\n",
       "      <td>1</td>\n",
       "    </tr>\n",
       "    <tr>\n",
       "      <th>310</th>\n",
       "      <td>though it is a fine piece of filmmaking , ther...</td>\n",
       "      <td>1</td>\n",
       "    </tr>\n",
       "    <tr>\n",
       "      <th>218</th>\n",
       "      <td>if there is one thing that bothers me about ho...</td>\n",
       "      <td>1</td>\n",
       "    </tr>\n",
       "    <tr>\n",
       "      <th>188</th>\n",
       "      <td>\" when it's cold , molecules aren't moving . ...</td>\n",
       "      <td>1</td>\n",
       "    </tr>\n",
       "    <tr>\n",
       "      <th>961</th>\n",
       "      <td>when walt disney pictures announced a live-act...</td>\n",
       "      <td>0</td>\n",
       "    </tr>\n",
       "    <tr>\n",
       "      <th>252</th>\n",
       "      <td>( note : there are spoilers regarding the fil...</td>\n",
       "      <td>1</td>\n",
       "    </tr>\n",
       "    <tr>\n",
       "      <th>1046</th>\n",
       "      <td>i love movies .  i really do .  every time i w...</td>\n",
       "      <td>0</td>\n",
       "    </tr>\n",
       "    <tr>\n",
       "      <th>18</th>\n",
       "      <td>note : some may consider portions of the follo...</td>\n",
       "      <td>1</td>\n",
       "    </tr>\n",
       "  </tbody>\n",
       "</table>\n",
       "</div>"
      ],
      "text/plain": [
       "                                                      0  1\n",
       "952   you know that a movie has issues when most eve...  0\n",
       "908   while watching loser , it occurred to me that ...  0\n",
       "221   richard gere can be a commanding actor , but h...  1\n",
       "310   though it is a fine piece of filmmaking , ther...  1\n",
       "218   if there is one thing that bothers me about ho...  1\n",
       "188    \" when it's cold , molecules aren't moving . ...  1\n",
       "961   when walt disney pictures announced a live-act...  0\n",
       "252    ( note : there are spoilers regarding the fil...  1\n",
       "1046  i love movies .  i really do .  every time i w...  0\n",
       "18    note : some may consider portions of the follo...  1"
      ]
     },
     "execution_count": 7,
     "metadata": {},
     "output_type": "execute_result"
    }
   ],
   "source": [
    "train_data.sample(10)"
   ]
  },
  {
   "cell_type": "markdown",
   "metadata": {},
   "source": [
    "The next step is to put the raw texts into Python lists and their corresponding labels into NumPy arrays:\n"
   ]
  },
  {
   "cell_type": "code",
   "execution_count": 8,
   "metadata": {
    "ExecuteTime": {
     "end_time": "2020-02-15T14:17:31.115577Z",
     "start_time": "2020-02-15T14:17:31.108038Z"
    }
   },
   "outputs": [],
   "source": [
    "train_raw_texts = train_data[0].tolist()\n",
    "train_labels = train_data[1].to_numpy()\n",
    "\n",
    "val_raw_texts = val_data[0].tolist()\n",
    "val_labels = val_data[1].to_numpy()\n",
    "\n",
    "test_raw_texts = test_data[0].tolist()\n",
    "test_labels = test_data[1].to_numpy()"
   ]
  },
  {
   "cell_type": "markdown",
   "metadata": {},
   "source": [
    "# Vector Representations of Text \n",
    "\n",
    "\n",
    "To train and test Logisitc Regression models, you first need to obtain vector representations for all documents given a vocabulary of features (unigrams, bigrams, trigrams).\n",
    "\n",
    "\n",
    "## Text Pre-Processing Pipeline\n",
    "\n",
    "To obtain a vocabulary of features, you should: \n",
    "- tokenise all texts into a list of unigrams (tip: using a regular expression) \n",
    "- remove stop words (using the one provided or one of your preference) \n",
    "- compute bigrams, trigrams given the remaining unigrams (or character ngrams from the unigrams)\n",
    "- remove ngrams appearing in less than K documents\n",
    "- use the remaining to create a vocabulary of unigrams, bigrams and trigrams (or character n-grams). You can keep top N if you encounter memory issues.\n"
   ]
  },
  {
   "cell_type": "code",
   "execution_count": 9,
   "metadata": {},
   "outputs": [],
   "source": [
    "# A few more words have been added in the given list\n",
    "stop_words = ['a','in','on','at','and','or', \n",
    "              'to', 'the', 'of', 'an', 'by', \n",
    "              'as', 'is', 'was', 'were', 'been', 'be', \n",
    "              'are','for', 'this', 'that', 'these', 'those', 'you', 'i',\n",
    "             'it', 'he', 'she', 'we', 'they', 'will', 'have', 'has',\n",
    "              'do', 'did', 'can', 'could', 'who', 'which', 'what', \n",
    "             'his', 'her', 'they', 'them', 'from', 'with', 'its', 's',\n",
    "              'about', 'above', 'after', 'again', 'all', 'also', 'am', 'any', \"aren\", \"t\", \n",
    "               'because', 'before', 'being', 'below', 'between', 'both', 'but', 'cannot', \n",
    "               'does', 'down', 'during', 'each', 'don', 'doing'\n",
    "               'else', 'ever', 'few', 'further', 'get', 'had', 'having',\n",
    "               \"d\", \"ll\", 'here', 'hers', 'herself', 'him', 'himself', 'how', \n",
    "               'however', \"m\", \"ve\", 'if', 'into', \"isn\", 'itself', 'just',\n",
    "               \"let\", 'me', 'more', 'most', \"mustn\", 'my', 'myself', 'no', 'nor', 'not', 'off', \n",
    "               'once', 'only', 'other', 'otherwise', 'ought', 'our', 'ours', 'ourselves', 'out', 'over', 'own', \n",
    "               'same', 'shall', \"shan\", 'should', \"shouldn\",'since', 'so', \n",
    "               'some', 'such', 'than', 'their', 'theirs', 'themselves', 'then', 'there', \"couldn\", 'doesn', 'hadn', 'haven' \n",
    "                \"re\", 'through', 'too', 'under', 'until', 'up', 'very', \n",
    "               \"wasn\", \"weren\", 'when', 'where',\n",
    "               'while', 'whom', 'why', \"won\", 'would', \"wouldn\", \n",
    "               'your', 'yours', 'yourself', 'yourselves', '']"
   ]
  },
  {
   "cell_type": "markdown",
   "metadata": {},
   "source": [
    "### N-gram extraction from a document\n",
    "\n",
    "You first need to implement the `extract_ngrams` function. It takes as input:\n",
    "- `x_raw`: a string corresponding to the raw text of a document\n",
    "- `ngram_range`: a tuple of two integers denoting the type of ngrams you want to extract, e.g. (1,2) denotes extracting unigrams and bigrams.\n",
    "- `token_pattern`: a string to be used within a regular expression to extract all tokens. Note that data is already tokenised so you could opt for a simple white space tokenisation.\n",
    "- `stop_words`: a list of stop words\n",
    "- `vocab`: a given vocabulary. It should be used to extract specific features.\n",
    "- `char_ngrams`: boolean. If true the function extracts character n-grams\n",
    "\n",
    "and returns:\n",
    "\n",
    "- `x': a list of all extracted features.\n",
    "\n",
    "See the examples below to see how this function should work."
   ]
  },
  {
   "cell_type": "code",
   "execution_count": 10,
   "metadata": {
    "ExecuteTime": {
     "end_time": "2020-02-15T14:17:33.169090Z",
     "start_time": "2020-02-15T14:17:33.161268Z"
    }
   },
   "outputs": [],
   "source": [
    "def extract_ngrams(x_raw, ngram_range=(1,3), token_pattern=r'[^A-Za-z]+', \n",
    "                   stop_words=[], vocab=set(), char_ngrams=False):        \n",
    "    x = []\n",
    "    if char_ngrams:\n",
    "        xraw = re.sub('[^A-Za-z0-9]+', '', x_raw)\n",
    "        for n in range(ngram_range[0], ngram_range[1]+1):\n",
    "            for i in range(len(xraw)-n+1):\n",
    "                ngram = xraw[i:i+n] \n",
    "                x.append(ngram)\n",
    "        \n",
    "    else:\n",
    "        tokenize = re.compile(token_pattern)\n",
    "        words = tokenize.split(x_raw)\n",
    "        \n",
    "        # Use vocab only if its not empty\n",
    "        if len(vocab) != 0:\n",
    "            uni_gram = [word for word in words if word not in stop_words and word in vocab]\n",
    "        else:\n",
    "            uni_gram = [word for word in words if word not in stop_words]\n",
    "            \n",
    "        # Getting n-grams \n",
    "        for n in range(ngram_range[0], ngram_range[1]+1):    \n",
    "            if n == 1:\n",
    "                x = x + uni_gram   \n",
    "            else:\n",
    "                for i in range(len(uni_gram)-n+1):\n",
    "                    ngram = tuple(uni_gram[i:i+n])\n",
    "                    x.append(ngram)\n",
    "    \n",
    "    return x"
   ]
  },
  {
   "cell_type": "markdown",
   "metadata": {},
   "source": [
    "Note that it is OK to represent n-grams using lists instead of tuples: e.g. `['great', ['great', 'movie']]`"
   ]
  },
  {
   "cell_type": "markdown",
   "metadata": {},
   "source": [
    "For extracting character n-grams the function should work as follows:"
   ]
  },
  {
   "cell_type": "code",
   "execution_count": 11,
   "metadata": {},
   "outputs": [
    {
     "data": {
      "text/plain": [
       "['m', 'o', 'v', 'i', 'e', 'mo', 'ov', 'vi', 'ie', 'mov', 'ovi', 'vie']"
      ]
     },
     "execution_count": 11,
     "metadata": {},
     "output_type": "execute_result"
    }
   ],
   "source": [
    "char_ngram = extract_ngrams(\"movie\", \n",
    "               ngram_range=(1,3), \n",
    "               stop_words=[],\n",
    "               char_ngrams=True)\n",
    "\n",
    "char_ngram"
   ]
  },
  {
   "cell_type": "markdown",
   "metadata": {},
   "source": [
    "### Create a vocabulary \n",
    "\n",
    "The `get_vocab` function will be used to (1) create a vocabulary of ngrams; (2) count the document frequencies of ngrams; (3) their raw frequency. It takes as input:\n",
    "- `X_raw`: a list of strings each corresponding to the raw text of a document\n",
    "- `ngram_range`: a tuple of two integers denoting the type of ngrams you want to extract, e.g. (1,2) denotes extracting unigrams and bigrams.\n",
    "- `token_pattern`: a string to be used within a regular expression to extract all tokens. Note that data is already tokenised so you could opt for a simple white space tokenisation.\n",
    "- `stop_words`: a list of stop words\n",
    "- `min_df`: keep ngrams with a minimum document frequency.\n",
    "- `keep_topN`: keep top-N more frequent ngrams.\n",
    "\n",
    "and returns:\n",
    "\n",
    "- `vocab`: a set of the n-grams that will be used as features.\n",
    "- `df`: a Counter (or dict) that contains ngrams as keys and their corresponding document frequency as values.\n",
    "- `ngram_counts`: counts of each ngram in vocab\n",
    "\n",
    "Hint: it should make use of the `extract_ngrams` function."
   ]
  },
  {
   "cell_type": "code",
   "execution_count": 12,
   "metadata": {
    "ExecuteTime": {
     "end_time": "2020-02-15T14:17:35.821240Z",
     "start_time": "2020-02-15T14:17:35.814722Z"
    }
   },
   "outputs": [
    {
     "name": "stdout",
     "output_type": "stream",
     "text": [
      "CPU times: user 6 µs, sys: 3 µs, total: 9 µs\n",
      "Wall time: 10 µs\n"
     ]
    }
   ],
   "source": [
    "%%time \n",
    "def get_doc_freq(ngram, doc_freq):\n",
    "    \n",
    "    unique_ngrams = dict.fromkeys(ngram) # To get unique ngrams from the given ngrams\n",
    "    for term in unique_ngrams:\n",
    "        if term in doc_freq:     # If the ngram already exist in the dict, the document frequency is increased by 1\n",
    "            doc_freq[term] += 1\n",
    "        else:\n",
    "            doc_freq[term] = 1   # Else add the ngram in the dict\n",
    "    \n",
    "    return doc_freq\n",
    "\n",
    "def get_ngrams_counts(ngram, counts):\n",
    "    for term in ngram:\n",
    "        if term in counts:\n",
    "            counts[term] += 1\n",
    "        else:\n",
    "            counts[term] = 1\n",
    "            \n",
    "    return counts\n",
    "\n",
    "\n",
    "def get_vocab(X_raw, ngram_range=(1,3), token_pattern=r' ', \n",
    "              min_df=0, keep_topN=0, \n",
    "              stop_words=[],char_ngrams=False):\n",
    "    \n",
    "    df = {}\n",
    "    ngram_counts = {}\n",
    "    for text in X_raw:\n",
    "        text_ngrams = extract_ngrams(text,\n",
    "                       ngram_range=ngram_range,\n",
    "                       stop_words=stop_words,\n",
    "                       char_ngrams=char_ngrams)\n",
    "        \n",
    "        ngram_counts = get_ngrams_counts(text_ngrams, ngram_counts)\n",
    "        df = get_doc_freq(text_ngrams, df)\n",
    "        \n",
    "    df = { k:v for k,v in df.items() if v > min_df}\n",
    "    ngram_counts = dict(sorted(ngram_counts.items(), key=lambda x: x[1], reverse=True)[:keep_topN])\n",
    "    \n",
    "    vocab = ngram_counts.keys() & df.keys() \n",
    "    \n",
    "    return vocab, df, ngram_counts"
   ]
  },
  {
   "cell_type": "markdown",
   "metadata": {},
   "source": [
    "Now you should use `get_vocab` to create your vocabulary and get document and raw frequencies of n-grams:"
   ]
  },
  {
   "cell_type": "code",
   "execution_count": 13,
   "metadata": {
    "ExecuteTime": {
     "end_time": "2020-02-15T14:17:39.319793Z",
     "start_time": "2020-02-15T14:17:36.836545Z"
    }
   },
   "outputs": [
    {
     "name": "stdout",
     "output_type": "stream",
     "text": [
      "CPU times: user 1.89 s, sys: 38.6 ms, total: 1.93 s\n",
      "Wall time: 1.93 s\n"
     ]
    }
   ],
   "source": [
    "%%time\n",
    "# for BOW\n",
    "vocab,doc_freq,ngram_count = get_vocab(train_raw_texts,\n",
    "                                       ngram_range=(1,2),\n",
    "                                       min_df = 100,\n",
    "                                      keep_topN = 10000,\n",
    "                                      stop_words = stop_words)"
   ]
  },
  {
   "cell_type": "code",
   "execution_count": 14,
   "metadata": {},
   "outputs": [
    {
     "name": "stdout",
     "output_type": "stream",
     "text": [
      "CPU times: user 2.29 s, sys: 6.55 ms, total: 2.3 s\n",
      "Wall time: 2.3 s\n"
     ]
    }
   ],
   "source": [
    "%%time\n",
    "# for BOCN\n",
    "vocab_ch,doc_freq_ch,ngram_count_ch = get_vocab(train_raw_texts,\n",
    "                                       ngram_range=(1,2),\n",
    "                                       min_df = 100,\n",
    "                                      keep_topN = 10000,\n",
    "                                      stop_words = stop_words,\n",
    "                                      char_ngrams = True)"
   ]
  },
  {
   "cell_type": "markdown",
   "metadata": {},
   "source": [
    "Then, you need to create 2 dictionaries: (1) vocabulary id -> word; and  (2) word -> vocabulary id so you can use them for reference:"
   ]
  },
  {
   "cell_type": "code",
   "execution_count": 15,
   "metadata": {
    "ExecuteTime": {
     "end_time": "2020-02-15T14:17:39.326811Z",
     "start_time": "2020-02-15T14:17:39.322256Z"
    }
   },
   "outputs": [],
   "source": [
    "vocab_id2word = dict(enumerate(vocab))\n",
    "vocab_word2id = dict((v,k) for k,v in vocab_id2word.items())"
   ]
  },
  {
   "cell_type": "markdown",
   "metadata": {},
   "source": [
    "Now you should be able to extract n-grams for each text in the training, development and test sets:"
   ]
  },
  {
   "cell_type": "code",
   "execution_count": 16,
   "metadata": {
    "ExecuteTime": {
     "end_time": "2020-02-15T14:17:40.213253Z",
     "start_time": "2020-02-15T14:17:39.329147Z"
    }
   },
   "outputs": [
    {
     "name": "stdout",
     "output_type": "stream",
     "text": [
      "CPU times: user 4.62 s, sys: 245 ms, total: 4.87 s\n",
      "Wall time: 4.9 s\n"
     ]
    }
   ],
   "source": [
    "%%time\n",
    "def convert_into_ngrams(raw_texts, ch_ngram, vocab):\n",
    "    text_ngram_list = []\n",
    "    for text in raw_texts:\n",
    "        text_ngram = extract_ngrams(text, \n",
    "                                    ngram_range = (1,3),\n",
    "                                    stop_words = stop_words,\n",
    "                                    vocab = vocab,\n",
    "                                    char_ngrams = ch_ngram)\n",
    "        text_ngram_list.append(text_ngram)\n",
    "    return text_ngram_list\n",
    "\n",
    "#BOW\n",
    "train_ngrams = convert_into_ngrams(train_raw_texts, False, vocab = vocab)\n",
    "val_ngrams = convert_into_ngrams(val_raw_texts, False, vocab = vocab)\n",
    "test_ngrams = convert_into_ngrams(test_raw_texts, False, vocab = vocab)\n",
    "\n",
    "\n",
    "#BOCN\n",
    "train_ch_ngrams = convert_into_ngrams(train_raw_texts, True, vocab = vocab_ch)\n",
    "val_ch_ngrams = convert_into_ngrams(val_raw_texts, True, vocab = vocab_ch)\n",
    "test_ch_ngrams = convert_into_ngrams(test_raw_texts, True, vocab = vocab_ch)"
   ]
  },
  {
   "cell_type": "markdown",
   "metadata": {},
   "source": [
    "## Vectorise documents "
   ]
  },
  {
   "cell_type": "markdown",
   "metadata": {},
   "source": [
    "Next, write a function `vectoriser` to obtain Bag-of-ngram representations for a list of documents. The function should take as input:\n",
    "- `X_ngram`: a list of texts (documents), where each text is represented as list of n-grams in the `vocab`\n",
    "- `vocab`: a set of n-grams to be used for representing the documents\n",
    "\n",
    "and return:\n",
    "- `X_vec`: an array with dimensionality Nx|vocab| where N is the number of documents and |vocab| is the size of the vocabulary. Each element of the array should represent the frequency of a given n-gram in a document.\n"
   ]
  },
  {
   "cell_type": "code",
   "execution_count": 17,
   "metadata": {
    "ExecuteTime": {
     "end_time": "2020-02-15T14:17:40.219201Z",
     "start_time": "2020-02-15T14:17:40.215129Z"
    }
   },
   "outputs": [
    {
     "name": "stdout",
     "output_type": "stream",
     "text": [
      "CPU times: user 2 µs, sys: 1e+03 ns, total: 3 µs\n",
      "Wall time: 3.81 µs\n"
     ]
    }
   ],
   "source": [
    "%%time\n",
    "def vectorise(X_ngram, vocab):\n",
    "    \n",
    "    X_vec = []\n",
    "    \n",
    "    for ngram in X_ngram:\n",
    "        row = []\n",
    "        for term in vocab:\n",
    "            row.append(ngram.count(term))\n",
    "        X_vec.append(row)\n",
    "    \n",
    "    X_vec = np.array(X_vec)\n",
    "    return X_vec"
   ]
  },
  {
   "cell_type": "markdown",
   "metadata": {},
   "source": [
    "Finally, use `vectorise` to obtain document vectors for each document in the train, development and test set. You should extract both count and tf.idf vectors respectively:"
   ]
  },
  {
   "cell_type": "markdown",
   "metadata": {},
   "source": [
    "#### Count vectors"
   ]
  },
  {
   "cell_type": "code",
   "execution_count": 18,
   "metadata": {
    "ExecuteTime": {
     "end_time": "2020-02-15T14:17:41.999574Z",
     "start_time": "2020-02-15T14:17:40.376534Z"
    }
   },
   "outputs": [
    {
     "name": "stdout",
     "output_type": "stream",
     "text": [
      "CPU times: user 8.54 s, sys: 45.4 ms, total: 8.59 s\n",
      "Wall time: 8.6 s\n"
     ]
    }
   ],
   "source": [
    "%%time\n",
    "# for BOW\n",
    "train_count_vector = vectorise(train_ngrams, vocab)\n",
    "val_count_vector = vectorise(val_ngrams, vocab)\n",
    "test_count_vector = vectorise(test_ngrams, vocab)"
   ]
  },
  {
   "cell_type": "code",
   "execution_count": 19,
   "metadata": {},
   "outputs": [
    {
     "name": "stdout",
     "output_type": "stream",
     "text": [
      "CPU times: user 1min 47s, sys: 229 ms, total: 1min 48s\n",
      "Wall time: 1min 48s\n"
     ]
    }
   ],
   "source": [
    "%%time\n",
    "# for BOCN\n",
    "train_ch_count_vector = vectorise(train_ch_ngrams, vocab_ch)\n",
    "val_ch_count_vector = vectorise(val_ch_ngrams, vocab_ch)\n",
    "test_ch_count_vector = vectorise(test_ch_ngrams, vocab_ch)"
   ]
  },
  {
   "cell_type": "markdown",
   "metadata": {},
   "source": [
    "#### TF.IDF vectors\n",
    "\n",
    "First compute `idfs` an array containing inverted document frequencies (Note: its elements should correspond to your `vocab`)"
   ]
  },
  {
   "cell_type": "code",
   "execution_count": 20,
   "metadata": {
    "ExecuteTime": {
     "end_time": "2020-02-15T14:17:42.022692Z",
     "start_time": "2020-02-15T14:17:42.012315Z"
    }
   },
   "outputs": [
    {
     "name": "stdout",
     "output_type": "stream",
     "text": [
      "CPU times: user 327 µs, sys: 17 µs, total: 344 µs\n",
      "Wall time: 347 µs\n"
     ]
    }
   ],
   "source": [
    "%%time\n",
    "import math\n",
    "def get_idfs(corpus, vocab, df):\n",
    "    \n",
    "    N = len(corpus)\n",
    "    term_idfs = []\n",
    "    for term in vocab:\n",
    "        idf = math.log10(N/df[term])\n",
    "        term_idfs.append(idf)\n",
    "    \n",
    "    return term_idfs\n",
    "\n",
    "# for BOW\n",
    "train_term_idfs = get_idfs(train_count_vector, vocab, doc_freq)\n",
    "train_term_idfs = np.asarray(train_term_idfs)\n",
    "\n",
    "# for BOCN\n",
    "train_ch_term_idfs = get_idfs(train_ch_count_vector, vocab_ch, doc_freq_ch)\n",
    "train_ch_term_idfs = np.asarray(train_ch_term_idfs)"
   ]
  },
  {
   "cell_type": "markdown",
   "metadata": {},
   "source": [
    "Then transform your count vectors to tf.idf vectors:"
   ]
  },
  {
   "cell_type": "code",
   "execution_count": 21,
   "metadata": {
    "ExecuteTime": {
     "end_time": "2020-02-15T14:17:42.802265Z",
     "start_time": "2020-02-15T14:17:42.752448Z"
    }
   },
   "outputs": [],
   "source": [
    "def get_tfidf_vector(dataset, term_idfs):\n",
    "    \n",
    "    new_vec = []\n",
    "    for row in dataset:\n",
    "        row = np.multiply(row, term_idfs)\n",
    "        new_vec.append(row)\n",
    "    return np.array(new_vec)"
   ]
  },
  {
   "cell_type": "code",
   "execution_count": 22,
   "metadata": {},
   "outputs": [],
   "source": [
    "train_tfidf_vector = get_tfidf_vector(train_count_vector, train_term_idfs)\n",
    "val_tfidf_vector = get_tfidf_vector(val_count_vector, train_term_idfs)\n",
    "test_tfidf_vector = get_tfidf_vector(test_count_vector, train_term_idfs)"
   ]
  },
  {
   "cell_type": "code",
   "execution_count": 23,
   "metadata": {},
   "outputs": [
    {
     "name": "stdout",
     "output_type": "stream",
     "text": [
      "CPU times: user 5.34 ms, sys: 2.78 ms, total: 8.11 ms\n",
      "Wall time: 7.36 ms\n"
     ]
    }
   ],
   "source": [
    "%%time\n",
    "train_ch_tfidf_vector = get_tfidf_vector(train_ch_count_vector, train_ch_term_idfs)\n",
    "val_ch_tfidf_vector = get_tfidf_vector(val_ch_count_vector, train_ch_term_idfs)\n",
    "test_ch_tfidf_vector = get_tfidf_vector(test_ch_count_vector, train_ch_term_idfs)"
   ]
  },
  {
   "cell_type": "markdown",
   "metadata": {},
   "source": [
    "# Binary Logistic Regression\n",
    "\n",
    "After obtaining vector representations of the data, now you are ready to implement Binary Logistic Regression for classifying sentiment."
   ]
  },
  {
   "cell_type": "markdown",
   "metadata": {},
   "source": [
    "First, you need to implement the `sigmoid` function. It takes as input:\n",
    "\n",
    "- `z`: a real number or an array of real numbers \n",
    "\n",
    "and returns:\n",
    "\n",
    "- `sig`: the sigmoid of `z`"
   ]
  },
  {
   "cell_type": "code",
   "execution_count": 24,
   "metadata": {
    "ExecuteTime": {
     "end_time": "2020-02-15T14:17:44.160661Z",
     "start_time": "2020-02-15T14:17:44.157902Z"
    }
   },
   "outputs": [],
   "source": [
    "def sigmoid(z):\n",
    "    \n",
    "    sig = 1.0 / (1 + np.exp(-z))\n",
    "    return sig"
   ]
  },
  {
   "cell_type": "markdown",
   "metadata": {},
   "source": [
    "Then, implement the `predict_proba` function to obtain prediction probabilities. It takes as input:\n",
    "\n",
    "- `X`: an array of inputs, i.e. documents represented by bag-of-ngram vectors ($N \\times |vocab|$)\n",
    "- `weights`: a 1-D array of the model's weights $(1, |vocab|)$\n",
    "\n",
    "and returns:\n",
    "\n",
    "- `preds_proba`: the prediction probabilities of X given the weights"
   ]
  },
  {
   "cell_type": "code",
   "execution_count": 25,
   "metadata": {
    "ExecuteTime": {
     "end_time": "2020-02-15T14:17:44.718566Z",
     "start_time": "2020-02-15T14:17:44.715017Z"
    }
   },
   "outputs": [],
   "source": [
    "def predict_proba(X, weights):\n",
    "    \n",
    "    z = np.dot(X, weights.T)\n",
    "    preds_proba = sigmoid(z)\n",
    "    \n",
    "    return preds_proba"
   ]
  },
  {
   "cell_type": "markdown",
   "metadata": {},
   "source": [
    "Then, implement the `predict_class` function to obtain the most probable class for each vector in an array of input vectors. It takes as input:\n",
    "\n",
    "- `X`: an array of documents represented by bag-of-ngram vectors ($N \\times |vocab|$)\n",
    "- `weights`: a 1-D array of the model's weights $(1, |vocab|)$\n",
    "\n",
    "and returns:\n",
    "\n",
    "- `preds_class`: the predicted class for each x in X given the weights"
   ]
  },
  {
   "cell_type": "code",
   "execution_count": 26,
   "metadata": {
    "ExecuteTime": {
     "end_time": "2020-02-15T14:17:45.002125Z",
     "start_time": "2020-02-15T14:17:44.998668Z"
    }
   },
   "outputs": [],
   "source": [
    "def predict_class(X, weights):\n",
    "    \n",
    "    preds_class = predict_proba(X, weights)\n",
    "    preds_class = np.where(preds_class < 0.5, 0, 1)\n",
    "    \n",
    "    return preds_class\n"
   ]
  },
  {
   "cell_type": "markdown",
   "metadata": {},
   "source": [
    "To learn the weights from data, we need to minimise the binary cross-entropy loss. Implement `binary_loss` that takes as input:\n",
    "\n",
    "- `X`: input vectors\n",
    "- `Y`: labels\n",
    "- `weights`: model weights\n",
    "- `alpha`: regularisation strength\n",
    "\n",
    "and return:\n",
    "\n",
    "- `l`: the loss score"
   ]
  },
  {
   "cell_type": "code",
   "execution_count": 27,
   "metadata": {
    "ExecuteTime": {
     "end_time": "2020-02-15T14:17:45.455533Z",
     "start_time": "2020-02-15T14:17:45.451475Z"
    }
   },
   "outputs": [],
   "source": [
    "def binary_loss(X, Y, weights, alpha=0.00001):\n",
    "    \n",
    "    prob_y = predict_proba(X, weights)\n",
    "    loss = -np.mean(Y*np.log(prob_y) + (1-Y)*np.log(1-prob_y))\n",
    "    loss_reg = np.mean(alpha*np.dot(weights.T, weights))\n",
    "    l = loss + loss_reg\n",
    "    \n",
    "    return l"
   ]
  },
  {
   "cell_type": "markdown",
   "metadata": {},
   "source": [
    "Now, you can implement Stochastic Gradient Descent to learn the weights of your sentiment classifier. The `SGD` function takes as input:\n",
    "\n",
    "- `X_tr`: array of training data (vectors)\n",
    "- `Y_tr`: labels of `X_tr`\n",
    "- `X_dev`: array of development (i.e. validation) data (vectors)\n",
    "- `Y_dev`: labels of `X_dev`\n",
    "- `lr`: learning rate\n",
    "- `alpha`: regularisation strength\n",
    "- `epochs`: number of full passes over the training data\n",
    "- `tolerance`: stop training if the difference between the current and previous validation loss is smaller than a threshold\n",
    "- `print_progress`: flag for printing the training progress (train/validation loss)\n",
    "\n",
    "\n",
    "and returns:\n",
    "\n",
    "- `weights`: the weights learned\n",
    "- `training_loss_history`: an array with the average losses of the whole training set after each epoch\n",
    "- `validation_loss_history`: an array with the average losses of the whole development set after each epoch"
   ]
  },
  {
   "cell_type": "code",
   "execution_count": 28,
   "metadata": {
    "ExecuteTime": {
     "end_time": "2020-02-15T14:17:45.968510Z",
     "start_time": "2020-02-15T14:17:45.958185Z"
    }
   },
   "outputs": [],
   "source": [
    "def SGD(X_tr, Y_tr, X_dev=[], Y_dev=[], lr=0.1, \n",
    "        alpha=0.00001, epochs=5, \n",
    "        tolerance=0.0001, print_progress=True):\n",
    "    \n",
    "    tr_docs, tr_features = X_tr.shape\n",
    "    dv_docs, dv_features = X_dev.shape\n",
    "    \n",
    "    weights = np.zeros((1,tr_features))  # initialise weights as zero\n",
    "    \n",
    "    y_tr = Y_tr.reshape((tr_docs,1))\n",
    "    y_dev = Y_dev.reshape((dv_docs,1))\n",
    "    \n",
    "    training_loss_history = []\n",
    "    validation_loss_history = []\n",
    "    \n",
    "    for epoch in range(epochs):\n",
    "        p = np.random.permutation(len(y_tr))  # Step1: randomising the training data\n",
    "        x_new = X_tr[p]\n",
    "        y_new = y_tr[p]\n",
    "        \n",
    "        for i in range(len(x_new)):\n",
    "            y_pred = predict_proba(x_new[i], weights)  \n",
    "            grad = (x_new[i] * (y_pred - y_new[i])) + (alpha * weights)  # Step2: calculating gradient\n",
    "            weights = weights - (lr * grad)  # Step3: update weights\n",
    "            \n",
    "        loss_tr = binary_loss(x_new, y_new, weights, alpha)\n",
    "        loss_dev = binary_loss(X_dev, y_dev, weights, alpha)\n",
    "        \n",
    "        if print_progress:\n",
    "            print(\"Training_loss : \" + str(loss_tr))\n",
    "            print(\"Validation_loss : \" + str(loss_dev))\n",
    "            \n",
    "        training_loss_history.append(loss_tr)       # Step4: Keeping track of the losses\n",
    "        validation_loss_history.append(loss_dev)\n",
    "        \n",
    "        \n",
    "        if epoch > 0 and (validation_loss_history[epoch-1] - validation_loss_history[epoch]) < tolerance:  # Step5: Checking if the loss is less than tolerance\n",
    "            break\n",
    "    \n",
    "        \n",
    "    return weights, training_loss_history, validation_loss_history"
   ]
  },
  {
   "cell_type": "markdown",
   "metadata": {},
   "source": [
    "## Train and Evaluate Logistic Regression with Count vectors\n",
    "\n",
    "First train the model using SGD:"
   ]
  },
  {
   "cell_type": "code",
   "execution_count": 29,
   "metadata": {},
   "outputs": [
    {
     "name": "stdout",
     "output_type": "stream",
     "text": [
      "CPU times: user 573 ms, sys: 162 ms, total: 734 ms\n",
      "Wall time: 133 ms\n"
     ]
    },
    {
     "name": "stderr",
     "output_type": "stream",
     "text": [
      "<ipython-input-27-e9e6969979a7>:4: RuntimeWarning: divide by zero encountered in log\n",
      "  loss = -np.mean(Y*np.log(prob_y) + (1-Y)*np.log(1-prob_y))\n",
      "<ipython-input-27-e9e6969979a7>:4: RuntimeWarning: invalid value encountered in multiply\n",
      "  loss = -np.mean(Y*np.log(prob_y) + (1-Y)*np.log(1-prob_y))\n"
     ]
    }
   ],
   "source": [
    "%%time\n",
    "w, t, v = SGD(train_count_vector, train_labels, val_count_vector, val_labels, print_progress = False)"
   ]
  },
  {
   "cell_type": "code",
   "execution_count": 38,
   "metadata": {},
   "outputs": [],
   "source": [
    "# Hyperparameter tuning\n",
    "# The hyperparameters tuned below are - regularisation strength(alpha) and learning_rate(lr)\n",
    "\n",
    "def hyperparameter_tuning(train_set, train_label, val_set, val_label, epochs):\n",
    "    alpha_opts = np.logspace(start = -6, stop = -1, num = 5)\n",
    "    lr_opts = np.logspace(start = -4, stop = 0, num = 5)\n",
    "\n",
    "    loss_history = []\n",
    "    min_loss = 9999999\n",
    "\n",
    "    best_alpha = 0\n",
    "    best_lr = 0\n",
    "    \n",
    "    for alpha in alpha_opts:\n",
    "        for lr in lr_opts:\n",
    "            w, t, v = SGD(train_count_vector, train_labels, val_count_vector, val_labels, lr = lr, alpha = alpha, epochs = epochs, print_progress = False)\n",
    "            loss = binary_loss(val_count_vector, val_labels, w, alpha)\n",
    "            loss_history.append(loss)\n",
    "            if loss < min_loss: \n",
    "                min_loss = loss\n",
    "                best_alpha = alpha\n",
    "                best_lr = lr \n",
    "            \n",
    "    print(\"best params: \" + str(best_alpha) + str(best_lr))\n",
    "    \n",
    "    return best_lr, best_alpha"
   ]
  },
  {
   "cell_type": "code",
   "execution_count": 31,
   "metadata": {},
   "outputs": [
    {
     "name": "stderr",
     "output_type": "stream",
     "text": [
      "<ipython-input-27-e9e6969979a7>:4: RuntimeWarning: divide by zero encountered in log\n",
      "  loss = -np.mean(Y*np.log(prob_y) + (1-Y)*np.log(1-prob_y))\n",
      "<ipython-input-27-e9e6969979a7>:4: RuntimeWarning: invalid value encountered in multiply\n",
      "  loss = -np.mean(Y*np.log(prob_y) + (1-Y)*np.log(1-prob_y))\n",
      "<ipython-input-24-ce952f6fbf7d>:3: RuntimeWarning: overflow encountered in exp\n",
      "  sig = 1.0 / (1 + np.exp(-z))\n"
     ]
    },
    {
     "name": "stdout",
     "output_type": "stream",
     "text": [
      "best params: 0.10.0001\n"
     ]
    }
   ],
   "source": [
    "best_lr, best_alpha = hyperparameter_tuning(train_count_vector, train_labels, val_count_vector, val_labels, 1000)"
   ]
  },
  {
   "cell_type": "markdown",
   "metadata": {},
   "source": [
    "Now plot the training and validation history per epoch for the best hyperparameter combination. Does your model underfit, overfit or is it about right? Explain why."
   ]
  },
  {
   "cell_type": "code",
   "execution_count": 32,
   "metadata": {
    "ExecuteTime": {
     "end_time": "2020-02-15T14:17:51.598911Z",
     "start_time": "2020-02-15T14:17:51.482307Z"
    }
   },
   "outputs": [
    {
     "name": "stdout",
     "output_type": "stream",
     "text": [
      "CPU times: user 4.78 s, sys: 1.07 s, total: 5.85 s\n",
      "Wall time: 789 ms\n"
     ]
    }
   ],
   "source": [
    "%%time\n",
    "w_counts, tl_counts, vl_counts = SGD(train_count_vector, train_labels, \n",
    "                                     val_count_vector, val_labels, \n",
    "                                     lr = best_lr, alpha = best_alpha, \n",
    "                                     epochs = 100, \n",
    "                                     print_progress = False)"
   ]
  },
  {
   "cell_type": "code",
   "execution_count": 34,
   "metadata": {},
   "outputs": [
    {
     "data": {
      "image/png": "[encoded data removed]",
      "text/plain": [
       "<Figure size 432x288 with 1 Axes>"
      ]
     },
     "metadata": {
      "needs_background": "light"
     },
     "output_type": "display_data"
    }
   ],
   "source": [
    "def plot_learning_process(tl, vl):\n",
    "    plt.plot(range(len(tl)), tl, 'b', label = 'training_losses')\n",
    "    plt.plot(range(len(vl)), vl, 'r', label = 'validation_losses')\n",
    "    plt.legend()\n",
    "    plt.title(\"Training and validation loss V/S epoch\")\n",
    "    plt.xlabel('Epoch')\n",
    "    plt.ylabel('Loss')\n",
    "    \n",
    "plot_learning_process(tl_counts, vl_counts)"
   ]
  },
  {
   "cell_type": "markdown",
   "metadata": {},
   "source": [
    "#### Answer\n",
    "As is evident from the plot shown above, the losses for both training and validation sets are decreasing with increasing epochs. The performance is approximately similar for training and evaluation phase. Hence, we can say that the model fits approximately right."
   ]
  },
  {
   "cell_type": "markdown",
   "metadata": {},
   "source": [
    "#### Evaluation\n",
    "\n",
    "Compute accuracy, precision, recall and F1-scores:"
   ]
  },
  {
   "cell_type": "code",
   "execution_count": 41,
   "metadata": {},
   "outputs": [],
   "source": [
    "def train_and_evaluate(train_set, train_labels, val_set, val_labels, test_set, test_labels, best_lr, best_alpha, epochs ):\n",
    "    w, t, v = SGD(train_set, train_labels, \n",
    "                                     val_set, val_labels, \n",
    "                                     lr = best_lr, alpha = best_alpha, \n",
    "                                     epochs = epochs, \n",
    "                                     print_progress = False)\n",
    "\n",
    "    preds_te = predict_class(test_set, w)\n",
    "\n",
    "    print('Accuracy:', accuracy_score(test_labels,preds_te))\n",
    "    print('Precision:', precision_score(test_labels,preds_te))\n",
    "    print('Recall:', recall_score(test_labels,preds_te))\n",
    "    print('F1-Score:', f1_score(test_labels,preds_te))\n",
    "    \n",
    "    return w, t, v"
   ]
  },
  {
   "cell_type": "code",
   "execution_count": 42,
   "metadata": {},
   "outputs": [
    {
     "name": "stdout",
     "output_type": "stream",
     "text": [
      "Accuracy: 0.8075\n",
      "Precision: 0.783410138248848\n",
      "Recall: 0.85\n",
      "F1-Score: 0.815347721822542\n",
      "CPU times: user 5.45 s, sys: 1.41 s, total: 6.86 s\n",
      "Wall time: 951 ms\n"
     ]
    }
   ],
   "source": [
    "%%time\n",
    "w, t, v = train_and_evaluate(train_count_vector, train_labels, val_count_vector, val_labels, test_count_vector, test_labels, best_lr, best_alpha, 100)"
   ]
  },
  {
   "cell_type": "markdown",
   "metadata": {},
   "source": [
    "Finally, print the top-10 words for the negative and positive class respectively."
   ]
  },
  {
   "cell_type": "code",
   "execution_count": 43,
   "metadata": {
    "ExecuteTime": {
     "end_time": "2020-02-15T14:17:51.613935Z",
     "start_time": "2020-02-15T14:17:51.610660Z"
    }
   },
   "outputs": [
    {
     "name": "stdout",
     "output_type": "stream",
     "text": [
      "bad\n",
      "even\n",
      "plot\n",
      "worst\n",
      "script\n",
      "nothing\n",
      "boring\n",
      "better\n",
      "unfortunately\n",
      "supposed\n"
     ]
    }
   ],
   "source": [
    "# top 10 negative words\n",
    "top_neg = w_counts[0].argsort()[:10]\n",
    "for i in top_neg:\n",
    "    print(vocab_id2word[i])"
   ]
  },
  {
   "cell_type": "code",
   "execution_count": 44,
   "metadata": {
    "ExecuteTime": {
     "end_time": "2020-02-15T14:17:51.624122Z",
     "start_time": "2020-02-15T14:17:51.615674Z"
    }
   },
   "outputs": [
    {
     "name": "stdout",
     "output_type": "stream",
     "text": [
      "great\n",
      "well\n",
      "life\n",
      "world\n",
      "many\n",
      "best\n",
      "quite\n",
      "seen\n",
      "movies\n",
      "american\n"
     ]
    }
   ],
   "source": [
    "# top 10 positive words\n",
    "top_pos = w_counts[0].argsort()[::-1][:10] # Taking the last elements as the array is sorted in ascending order\n",
    "for i in top_pos:\n",
    "    print(vocab_id2word[i])"
   ]
  },
  {
   "cell_type": "markdown",
   "metadata": {},
   "source": [
    "If we were to apply the classifier we've learned into a different domain such laptop reviews or restaurant reviews, do you think these features would generalise well? Can you propose what features the classifier could pick up as important in the new domain?"
   ]
  },
  {
   "cell_type": "markdown",
   "metadata": {},
   "source": [
    "#### Answer\n",
    "I think the features could generalise well in another domain if trained thoroughly. It has some generalise terms like bad, worst, unfortunately for negative class and some general positive words like great, well, fun. "
   ]
  },
  {
   "cell_type": "markdown",
   "metadata": {},
   "source": [
    "### Discuss how did you choose model hyperparameters (e.g. learning rate and regularisation strength)? What is the relation between training epochs and learning rate? How the regularisation strength affects performance?"
   ]
  },
  {
   "cell_type": "markdown",
   "metadata": {},
   "source": [
    "#### Answer\n",
    "\n",
    "The best hyperparameters for the model are selected using the \"Grid Search\" algorithm for hyperparameter tuning. The implementation is done from scratch and no additional library is used. \n",
    "\n",
    "Learning rate measures how rapidly the gradient converges to its minimum. Hence, higher learning rate implies that the model will take less epochs to reach to its optimum point and so we can say that learning rate and epochs have an inverse relationship. Regularisation strength ensures that the model does not overfit the training data. So it makes sure that the weights are not adjusted too much. It does not directly affects the training performance of the model but it will make the model more generalize thus, ensuring higher evaluation and testing accuracy."
   ]
  },
  {
   "cell_type": "markdown",
   "metadata": {},
   "source": [
    "## Train and Evaluate Logistic Regression with TF.IDF vectors\n",
    "\n",
    "Follow the same steps as above (i.e. evaluating count n-gram representations).\n"
   ]
  },
  {
   "cell_type": "markdown",
   "metadata": {},
   "source": [
    "### Now repeat the training and evaluation process for BOW-tfidf, BOCN-count, BOCN-tfidf, BOW+BOCN including hyperparameter tuning for each model..."
   ]
  },
  {
   "cell_type": "code",
   "execution_count": 45,
   "metadata": {},
   "outputs": [
    {
     "name": "stderr",
     "output_type": "stream",
     "text": [
      "<ipython-input-27-e9e6969979a7>:4: RuntimeWarning: divide by zero encountered in log\n",
      "  loss = -np.mean(Y*np.log(prob_y) + (1-Y)*np.log(1-prob_y))\n",
      "<ipython-input-27-e9e6969979a7>:4: RuntimeWarning: invalid value encountered in multiply\n",
      "  loss = -np.mean(Y*np.log(prob_y) + (1-Y)*np.log(1-prob_y))\n",
      "<ipython-input-24-ce952f6fbf7d>:3: RuntimeWarning: overflow encountered in exp\n",
      "  sig = 1.0 / (1 + np.exp(-z))\n"
     ]
    },
    {
     "name": "stdout",
     "output_type": "stream",
     "text": [
      "best params: 0.10.0001\n"
     ]
    }
   ],
   "source": [
    "# BOW-tfidf\n",
    "best_lr, best_alpha = hyperparameter_tuning(train_tfidf_vector, train_labels, val_tfidf_vector, val_labels, 1000)"
   ]
  },
  {
   "cell_type": "code",
   "execution_count": 46,
   "metadata": {},
   "outputs": [
    {
     "name": "stdout",
     "output_type": "stream",
     "text": [
      "Accuracy: 0.835\n",
      "Precision: 0.8018018018018018\n",
      "Recall: 0.89\n",
      "F1-Score: 0.8436018957345972\n",
      "CPU times: user 12.8 s, sys: 3.28 s, total: 16.1 s\n",
      "Wall time: 2.23 s\n"
     ]
    },
    {
     "data": {
      "image/png": "[encoded data removed]",
      "text/plain": [
       "<Figure size 432x288 with 1 Axes>"
      ]
     },
     "metadata": {
      "needs_background": "light"
     },
     "output_type": "display_data"
    }
   ],
   "source": [
    "%%time\n",
    "w, t, v = train_and_evaluate(train_tfidf_vector, train_labels, val_tfidf_vector, val_labels, test_tfidf_vector, test_labels, best_lr, best_alpha, 100)\n",
    "plot_learning_process(t, v)"
   ]
  },
  {
   "cell_type": "code",
   "execution_count": 47,
   "metadata": {},
   "outputs": [
    {
     "name": "stderr",
     "output_type": "stream",
     "text": [
      "<ipython-input-27-e9e6969979a7>:4: RuntimeWarning: divide by zero encountered in log\n",
      "  loss = -np.mean(Y*np.log(prob_y) + (1-Y)*np.log(1-prob_y))\n",
      "<ipython-input-27-e9e6969979a7>:4: RuntimeWarning: invalid value encountered in multiply\n",
      "  loss = -np.mean(Y*np.log(prob_y) + (1-Y)*np.log(1-prob_y))\n",
      "<ipython-input-24-ce952f6fbf7d>:3: RuntimeWarning: overflow encountered in exp\n",
      "  sig = 1.0 / (1 + np.exp(-z))\n"
     ]
    },
    {
     "name": "stdout",
     "output_type": "stream",
     "text": [
      "best params: 0.10.0001\n"
     ]
    }
   ],
   "source": [
    "# BOCN-tfidf\n",
    "best_lr, best_alpha = hyperparameter_tuning(train_ch_tfidf_vector, train_labels, val_ch_tfidf_vector, val_labels, 500)"
   ]
  },
  {
   "cell_type": "code",
   "execution_count": 48,
   "metadata": {},
   "outputs": [
    {
     "name": "stdout",
     "output_type": "stream",
     "text": [
      "Accuracy: 0.6175\n",
      "Precision: 0.6\n",
      "Recall: 0.705\n",
      "F1-Score: 0.6482758620689655\n",
      "CPU times: user 10.5 s, sys: 3.05 s, total: 13.6 s\n",
      "Wall time: 1.94 s\n"
     ]
    },
    {
     "data": {
      "image/png": "[encoded data removed]",
      "text/plain": [
       "<Figure size 432x288 with 1 Axes>"
      ]
     },
     "metadata": {
      "needs_background": "light"
     },
     "output_type": "display_data"
    }
   ],
   "source": [
    "%%time\n",
    "w, t, v = train_and_evaluate(train_ch_tfidf_vector, train_labels, val_ch_tfidf_vector, val_labels, test_ch_tfidf_vector, test_labels, best_lr, best_alpha, 100)\n",
    "plot_learning_process(t, v)"
   ]
  },
  {
   "cell_type": "code",
   "execution_count": 49,
   "metadata": {},
   "outputs": [
    {
     "name": "stderr",
     "output_type": "stream",
     "text": [
      "<ipython-input-27-e9e6969979a7>:4: RuntimeWarning: divide by zero encountered in log\n",
      "  loss = -np.mean(Y*np.log(prob_y) + (1-Y)*np.log(1-prob_y))\n",
      "<ipython-input-27-e9e6969979a7>:4: RuntimeWarning: invalid value encountered in multiply\n",
      "  loss = -np.mean(Y*np.log(prob_y) + (1-Y)*np.log(1-prob_y))\n",
      "<ipython-input-24-ce952f6fbf7d>:3: RuntimeWarning: overflow encountered in exp\n",
      "  sig = 1.0 / (1 + np.exp(-z))\n"
     ]
    },
    {
     "name": "stdout",
     "output_type": "stream",
     "text": [
      "best params: 0.10.0001\n"
     ]
    }
   ],
   "source": [
    "# BOCN-count\n",
    "best_lr, best_alpha = hyperparameter_tuning(train_ch_count_vector, train_labels, val_ch_count_vector, val_labels, 500)"
   ]
  },
  {
   "cell_type": "code",
   "execution_count": 81,
   "metadata": {},
   "outputs": [
    {
     "name": "stderr",
     "output_type": "stream",
     "text": [
      "<ipython-input-27-e9e6969979a7>:4: RuntimeWarning: divide by zero encountered in log\n",
      "  loss = -np.mean(Y*np.log(prob_y) + (1-Y)*np.log(1-prob_y))\n",
      "<ipython-input-27-e9e6969979a7>:4: RuntimeWarning: invalid value encountered in multiply\n",
      "  loss = -np.mean(Y*np.log(prob_y) + (1-Y)*np.log(1-prob_y))\n"
     ]
    },
    {
     "name": "stdout",
     "output_type": "stream",
     "text": [
      "Accuracy: 0.61\n",
      "Precision: 0.5635838150289018\n",
      "Recall: 0.975\n",
      "F1-Score: 0.7142857142857143\n",
      "CPU times: user 13 s, sys: 3.16 s, total: 16.2 s\n",
      "Wall time: 2.15 s\n"
     ]
    },
    {
     "data": {
      "image/png": "[encoded data removed]",
      "text/plain": [
       "<Figure size 432x288 with 1 Axes>"
      ]
     },
     "metadata": {
      "needs_background": "light"
     },
     "output_type": "display_data"
    }
   ],
   "source": [
    "%%time\n",
    "w, t, v = train_and_evaluate(train_ch_count_vector, train_labels, val_ch_count_vector, val_labels, test_ch_count_vector, test_labels, best_lr, best_alpha, 100)\n",
    "plot_learning_process(t, v)"
   ]
  },
  {
   "cell_type": "code",
   "execution_count": 82,
   "metadata": {},
   "outputs": [
    {
     "name": "stderr",
     "output_type": "stream",
     "text": [
      "<ipython-input-27-e9e6969979a7>:4: RuntimeWarning: divide by zero encountered in log\n",
      "  loss = -np.mean(Y*np.log(prob_y) + (1-Y)*np.log(1-prob_y))\n",
      "<ipython-input-27-e9e6969979a7>:4: RuntimeWarning: invalid value encountered in multiply\n",
      "  loss = -np.mean(Y*np.log(prob_y) + (1-Y)*np.log(1-prob_y))\n",
      "<ipython-input-24-ce952f6fbf7d>:3: RuntimeWarning: overflow encountered in exp\n",
      "  sig = 1.0 / (1 + np.exp(-z))\n"
     ]
    },
    {
     "name": "stdout",
     "output_type": "stream",
     "text": [
      "best params: 0.10.0001\n"
     ]
    }
   ],
   "source": [
    "# BOCN + BOW\n",
    "train_data = np.hstack((train_tfidf_vector, train_ch_tfidf_vector))   # Combining the two representations\n",
    "val_data = np.hstack((val_tfidf_vector, val_ch_tfidf_vector))\n",
    "test_data = np.hstack((test_tfidf_vector, test_ch_tfidf_vector))\n",
    "\n",
    "best_lr, best_alpha = hyperparameter_tuning(train_data, train_labels, val_data, val_labels, 1000)"
   ]
  },
  {
   "cell_type": "code",
   "execution_count": 83,
   "metadata": {},
   "outputs": [
    {
     "name": "stdout",
     "output_type": "stream",
     "text": [
      "Accuracy: 0.825\n",
      "Precision: 0.8037383177570093\n",
      "Recall: 0.86\n",
      "F1-Score: 0.8309178743961353\n",
      "CPU times: user 17.8 s, sys: 3.17 s, total: 20.9 s\n",
      "Wall time: 2.68 s\n"
     ]
    },
    {
     "data": {
      "image/png": "[encoded data removed]",
      "text/plain": [
       "<Figure size 432x288 with 1 Axes>"
      ]
     },
     "metadata": {
      "needs_background": "light"
     },
     "output_type": "display_data"
    }
   ],
   "source": [
    "%%time\n",
    "w, t, v = train_and_evaluate(train_data, train_labels, val_data, val_labels, test_data, test_labels, best_lr, best_alpha, 100)\n",
    "plot_learning_process(t, v)"
   ]
  },
  {
   "cell_type": "markdown",
   "metadata": {},
   "source": [
    "\n",
    "\n",
    "## Full Results\n",
    "\n",
    "Add here your results:\n",
    "\n",
    "| LR | Precision  | Recall  | F1-Score  |\n",
    "|:-:|:-:|:-:|:-:|\n",
    "| BOW-count  | 0.78  | 0.85  |  0.81 |\n",
    "| BOW-tfidf  |  0.80 | 0.89  | 0.84  |\n",
    "| BOCN-count  |  0.56 | 0.97  | 0.71  |\n",
    "| BOCN-tfidf  |0.60   |  0.70 | 0.64  |\n",
    "| BOW+BOCN  | 0.80  |  0.86 | 0.83  |\n",
    "\n",
    "Please discuss why your best performing model is better than the rest."
   ]
  },
  {
   "cell_type": "markdown",
   "metadata": {},
   "source": [
    "#### Conclusion \n",
    "As it can be concluded from the table, two models give the best F1-scores i.e. \"BOW-tfidf\" and \"BOW+BOCN\". So these two models perform better than the rest. The other metrics for the two systems are almost comparable. \n",
    "These models perform better than the other two because they both use tfidf weighting schemes. Tf.idf weighting scheme penalize the more frequenct words hence, giving less scores to the common words. So, the model is performing better because it is giving more importance to the context of the words. "
   ]
  }
 ],
 "metadata": {
  "kernelspec": {
   "display_name": "Python 3",
   "language": "python",
   "name": "python3"
  },
  "language_info": {
   "codemirror_mode": {
    "name": "ipython",
    "version": 3
   },
   "file_extension": ".py",
   "mimetype": "text/x-python",
   "name": "python",
   "nbconvert_exporter": "python",
   "pygments_lexer": "ipython3",
   "version": "3.8.8"
  }
 },
 "nbformat": 4,
 "nbformat_minor": 4
}
